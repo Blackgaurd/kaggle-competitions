{
 "cells": [
  {
   "cell_type": "markdown",
   "metadata": {},
   "source": [
    "## Install Dependencies"
   ]
  },
  {
   "cell_type": "code",
   "execution_count": 1,
   "metadata": {},
   "outputs": [
    {
     "name": "stdout",
     "output_type": "stream",
     "text": [
      "Collecting git+https://github.com/MCFreddie777/language-check.git\n",
      "  Cloning https://github.com/MCFreddie777/language-check.git to /tmp/pip-req-build-veo2cbuu\n",
      "  Running command git clone -q https://github.com/MCFreddie777/language-check.git /tmp/pip-req-build-veo2cbuu\n",
      "Requirement already satisfied (use --upgrade to upgrade): language-check==1.1 from git+https://github.com/MCFreddie777/language-check.git in /home/bryan/.local/lib/python3.8/site-packages\n",
      "Building wheels for collected packages: language-check\n",
      "  Building wheel for language-check (setup.py) ... \u001b[?25ldone\n",
      "\u001b[?25h  Created wheel for language-check: filename=language_check-1.1-py3-none-any.whl size=90190985 sha256=9407d4567a7d6387eaf5e53991611c0b18521b76245934fd98fd951033b59107\n",
      "  Stored in directory: /tmp/pip-ephem-wheel-cache-_c_3_nia/wheels/c6/a8/a2/992f0138466a1425526af353678322a252aa8cbd0a6d93e2e7\n",
      "Successfully built language-check\n",
      "Note: you may need to restart the kernel to use updated packages.\n",
      "Requirement already satisfied: pycontractions in /home/bryan/.local/lib/python3.8/site-packages (2.0.1)\n",
      "Requirement already satisfied: language-check>=1.0 in /home/bryan/.local/lib/python3.8/site-packages (from pycontractions) (1.1)\n",
      "Requirement already satisfied: pyemd>=0.4.4 in /home/bryan/.local/lib/python3.8/site-packages (from pycontractions) (0.5.1)\n",
      "Requirement already satisfied: gensim>=2.0 in /home/bryan/.local/lib/python3.8/site-packages (from pycontractions) (4.2.0)\n",
      "Requirement already satisfied: numpy<2.0.0,>=1.9.0 in /home/bryan/.local/lib/python3.8/site-packages (from pyemd>=0.4.4->pycontractions) (1.23.3)\n",
      "Requirement already satisfied: smart-open>=1.8.1 in /home/bryan/.local/lib/python3.8/site-packages (from gensim>=2.0->pycontractions) (6.2.0)\n",
      "Requirement already satisfied: scipy>=0.18.1 in /home/bryan/.local/lib/python3.8/site-packages (from gensim>=2.0->pycontractions) (1.9.1)\n",
      "Note: you may need to restart the kernel to use updated packages.\n",
      "Requirement already satisfied: symspellpy in /home/bryan/.local/lib/python3.8/site-packages (6.7.6)\n",
      "Requirement already satisfied: editdistpy>=0.1.3 in /home/bryan/.local/lib/python3.8/site-packages (from symspellpy) (0.1.3)\n",
      "Note: you may need to restart the kernel to use updated packages.\n"
     ]
    }
   ],
   "source": [
    "# based on kaggle environment\n",
    "\n",
    "# work-around to install broken dependency of pycontractions\n",
    "%pip install git+https://github.com/MCFreddie777/language-check.git\n",
    "%pip install pycontractions\n",
    "%pip install symspellpy # there is a faster alternative, but it has bad documentation"
   ]
  },
  {
   "cell_type": "markdown",
   "metadata": {},
   "source": [
    "## Setting Up Dependencies"
   ]
  },
  {
   "cell_type": "code",
   "execution_count": 2,
   "metadata": {},
   "outputs": [],
   "source": [
    "import re\n",
    "import string\n",
    "import pkg_resources\n",
    "\n",
    "import pandas as pd\n",
    "from symspellpy import SymSpell, Verbosity\n",
    "from pycontractions import Contractions\n",
    "from nltk.corpus import stopwords\n",
    "from nltk.stem import WordNetLemmatizer, SnowballStemmer\n",
    "from nltk.tokenize import word_tokenize"
   ]
  },
  {
   "cell_type": "code",
   "execution_count": 3,
   "metadata": {},
   "outputs": [
    {
     "data": {
      "text/plain": [
       "True"
      ]
     },
     "execution_count": 3,
     "metadata": {},
     "output_type": "execute_result"
    }
   ],
   "source": [
    "dictionary_path = pkg_resources.resource_filename(\"symspellpy\", \"frequency_dictionary_en_82_765.txt\")\n",
    "bigram_path = pkg_resources.resource_filename(\"symspellpy\", \"frequency_bigramdictionary_en_243_342.txt\")\n",
    "\n",
    "symspell_segment = SymSpell(max_dictionary_edit_distance=2, prefix_length=8)\n",
    "symspell_segment.load_dictionary(dictionary_path, term_index=0, count_index=1)\n",
    "\n",
    "symspell_typo = SymSpell(max_dictionary_edit_distance=2, prefix_length=7)\n",
    "symspell_typo.load_dictionary(dictionary_path, term_index=0, count_index=1)\n",
    "symspell_typo.load_bigram_dictionary(bigram_path, term_index=0, count_index=2)"
   ]
  },
  {
   "cell_type": "code",
   "execution_count": 4,
   "metadata": {},
   "outputs": [],
   "source": [
    "cont = Contractions(api_key=\"glove-twitter-100\")\n",
    "cont.load_models()"
   ]
  },
  {
   "cell_type": "code",
   "execution_count": 5,
   "metadata": {},
   "outputs": [],
   "source": [
    "stemmer = SnowballStemmer(\"english\")\n",
    "lemmatizer = WordNetLemmatizer()\n",
    "stop_words = set(stopwords.words(\"english\"))"
   ]
  },
  {
   "cell_type": "markdown",
   "metadata": {},
   "source": [
    "## Data Preprocessing"
   ]
  },
  {
   "cell_type": "code",
   "execution_count": 6,
   "metadata": {},
   "outputs": [
    {
     "data": {
      "text/html": [
       "<div>\n",
       "<style scoped>\n",
       "    .dataframe tbody tr th:only-of-type {\n",
       "        vertical-align: middle;\n",
       "    }\n",
       "\n",
       "    .dataframe tbody tr th {\n",
       "        vertical-align: top;\n",
       "    }\n",
       "\n",
       "    .dataframe thead th {\n",
       "        text-align: right;\n",
       "    }\n",
       "</style>\n",
       "<table border=\"1\" class=\"dataframe\">\n",
       "  <thead>\n",
       "    <tr style=\"text-align: right;\">\n",
       "      <th></th>\n",
       "      <th>id</th>\n",
       "      <th>keyword</th>\n",
       "      <th>location</th>\n",
       "      <th>text</th>\n",
       "      <th>target</th>\n",
       "    </tr>\n",
       "  </thead>\n",
       "  <tbody>\n",
       "    <tr>\n",
       "      <th>0</th>\n",
       "      <td>1</td>\n",
       "      <td>NaN</td>\n",
       "      <td>NaN</td>\n",
       "      <td>Our Deeds are the Reason of this #earthquake M...</td>\n",
       "      <td>1</td>\n",
       "    </tr>\n",
       "    <tr>\n",
       "      <th>1</th>\n",
       "      <td>4</td>\n",
       "      <td>NaN</td>\n",
       "      <td>NaN</td>\n",
       "      <td>Forest fire near La Ronge Sask. Canada</td>\n",
       "      <td>1</td>\n",
       "    </tr>\n",
       "    <tr>\n",
       "      <th>2</th>\n",
       "      <td>5</td>\n",
       "      <td>NaN</td>\n",
       "      <td>NaN</td>\n",
       "      <td>All residents asked to 'shelter in place' are ...</td>\n",
       "      <td>1</td>\n",
       "    </tr>\n",
       "    <tr>\n",
       "      <th>3</th>\n",
       "      <td>6</td>\n",
       "      <td>NaN</td>\n",
       "      <td>NaN</td>\n",
       "      <td>13,000 people receive #wildfires evacuation or...</td>\n",
       "      <td>1</td>\n",
       "    </tr>\n",
       "    <tr>\n",
       "      <th>4</th>\n",
       "      <td>7</td>\n",
       "      <td>NaN</td>\n",
       "      <td>NaN</td>\n",
       "      <td>Just got sent this photo from Ruby #Alaska as ...</td>\n",
       "      <td>1</td>\n",
       "    </tr>\n",
       "  </tbody>\n",
       "</table>\n",
       "</div>"
      ],
      "text/plain": [
       "   id keyword location                                               text  \\\n",
       "0   1     NaN      NaN  Our Deeds are the Reason of this #earthquake M...   \n",
       "1   4     NaN      NaN             Forest fire near La Ronge Sask. Canada   \n",
       "2   5     NaN      NaN  All residents asked to 'shelter in place' are ...   \n",
       "3   6     NaN      NaN  13,000 people receive #wildfires evacuation or...   \n",
       "4   7     NaN      NaN  Just got sent this photo from Ruby #Alaska as ...   \n",
       "\n",
       "   target  \n",
       "0       1  \n",
       "1       1  \n",
       "2       1  \n",
       "3       1  \n",
       "4       1  "
      ]
     },
     "execution_count": 6,
     "metadata": {},
     "output_type": "execute_result"
    }
   ],
   "source": [
    "train = pd.read_csv(\"./data/train.csv\")\n",
    "test = pd.read_csv(\"./data/test.csv\")\n",
    "\n",
    "train.head()"
   ]
  },
  {
   "cell_type": "code",
   "execution_count": 7,
   "metadata": {},
   "outputs": [],
   "source": [
    "train.insert(3, 'cleaned_text', train['text'])\n",
    "test.insert(3, 'cleaned_text', test['text'])"
   ]
  },
  {
   "cell_type": "code",
   "execution_count": 8,
   "metadata": {},
   "outputs": [],
   "source": [
    "# a few functions to clean the text\n",
    "def to_lower(text):\n",
    "    return text.lower()\n",
    "\n",
    "def remove_punctuation(text):\n",
    "    return text.translate(str.maketrans('', '', string.punctuation))\n",
    "\n",
    "def remove_urls(text):\n",
    "    urls = re.compile(r'https?://\\S+|www\\.\\S+|pic.twitter.com\\S+')\n",
    "    return re.sub(urls, ' ', text)\n",
    "\n",
    "def handle_unicode(text):\n",
    "    return text.encode('ascii', 'replace').decode('utf-8')\n",
    "\n",
    "def words_with_numbers(text):\n",
    "    return re.sub(r'\\w*\\d\\w*', ' ', text)\n",
    "\n",
    "def remove_numbers(text):\n",
    "    return re.sub(r'\\d+', ' ', text)\n",
    "\n",
    "def replace_numbers(text):\n",
    "    return re.sub(r'\\d+', 'number', text)\n",
    "\n",
    "def remove_mentions(text):\n",
    "    return re.sub(r'@\\w*', ' ', text)\n",
    "\n",
    "def remove_newlines(text):\n",
    "    return text.replace('\\n', ' ')\n",
    "\n",
    "def expand_hashtags(text):\n",
    "    hashtags = re.findall(r'#\\w*', text)\n",
    "    for hashtag in hashtags:\n",
    "        hashtag = hashtag.replace('#', '').replace('_', '')\n",
    "        if len(hashtag) == 0 or hashtag.isnumeric():\n",
    "            continue\n",
    "        expanded = symspell_segment.word_segmentation(hashtag).corrected_string\n",
    "        text = text.replace(hashtag, expanded)\n",
    "    return text.replace('#', ' ')\n",
    "\n",
    "def remove_repeated_characters(text):\n",
    "    ret = \"\"\n",
    "    for c in text:\n",
    "        if len(ret) == 0 or c != ret[-1]:\n",
    "            ret += c\n",
    "    return ret\n",
    "\n",
    "def correct_typos(text):\n",
    "    suggestions = symspell_typo.lookup_compound(text, max_edit_distance=2)\n",
    "    return suggestions[0].term\n",
    "\n",
    "def expand_contractions(text):\n",
    "    gen = cont.expand_texts([text], precise=True)\n",
    "    return next(gen)\n",
    "\n",
    "def remove_stopwords(text):\n",
    "    words = word_tokenize(text)\n",
    "    ret = [word for word in words if word not in stop_words]\n",
    "    return ' '.join(ret)\n",
    "\n",
    "def stem(text):\n",
    "    words = word_tokenize(text)\n",
    "    ret = [stemmer.stem(word) for word in words]\n",
    "    return ' '.join(ret)\n",
    "\n",
    "def lemmatize(text):\n",
    "    words = word_tokenize(text)\n",
    "    ret = [lemmatizer.lemmatize(word) for word in words]\n",
    "    return ' '.join(ret)"
   ]
  },
  {
   "cell_type": "code",
   "execution_count": 9,
   "metadata": {},
   "outputs": [
    {
     "name": "stderr",
     "output_type": "stream",
     "text": [
      "2022-10-02 23:14:42,169 WARNING:At least one of the documents had no words that were in the vocabulary.\n",
      "2022-10-02 23:14:42,176 WARNING:At least one of the documents had no words that were in the vocabulary.\n",
      "2022-10-02 23:14:48,698 WARNING:At least one of the documents had no words that were in the vocabulary.\n",
      "2022-10-02 23:14:48,702 WARNING:At least one of the documents had no words that were in the vocabulary.\n",
      "2022-10-02 23:14:56,471 WARNING:At least one of the documents had no words that were in the vocabulary.\n",
      "2022-10-02 23:14:56,475 WARNING:At least one of the documents had no words that were in the vocabulary.\n",
      "2022-10-02 23:14:59,968 WARNING:At least one of the documents had no words that were in the vocabulary.\n",
      "2022-10-02 23:14:59,972 WARNING:At least one of the documents had no words that were in the vocabulary.\n",
      "2022-10-02 23:15:03,216 WARNING:At least one of the documents had no words that were in the vocabulary.\n",
      "2022-10-02 23:15:03,221 WARNING:At least one of the documents had no words that were in the vocabulary.\n",
      "2022-10-02 23:15:05,817 WARNING:At least one of the documents had no words that were in the vocabulary.\n",
      "2022-10-02 23:15:05,821 WARNING:At least one of the documents had no words that were in the vocabulary.\n",
      "2022-10-02 23:15:09,985 WARNING:At least one of the documents had no words that were in the vocabulary.\n",
      "2022-10-02 23:15:09,993 WARNING:At least one of the documents had no words that were in the vocabulary.\n",
      "2022-10-02 23:15:17,447 WARNING:At least one of the documents had no words that were in the vocabulary.\n",
      "2022-10-02 23:15:17,452 WARNING:At least one of the documents had no words that were in the vocabulary.\n"
     ]
    },
    {
     "data": {
      "text/html": [
       "<div>\n",
       "<style scoped>\n",
       "    .dataframe tbody tr th:only-of-type {\n",
       "        vertical-align: middle;\n",
       "    }\n",
       "\n",
       "    .dataframe tbody tr th {\n",
       "        vertical-align: top;\n",
       "    }\n",
       "\n",
       "    .dataframe thead th {\n",
       "        text-align: right;\n",
       "    }\n",
       "</style>\n",
       "<table border=\"1\" class=\"dataframe\">\n",
       "  <thead>\n",
       "    <tr style=\"text-align: right;\">\n",
       "      <th></th>\n",
       "      <th>id</th>\n",
       "      <th>keyword</th>\n",
       "      <th>location</th>\n",
       "      <th>cleaned_text</th>\n",
       "      <th>text</th>\n",
       "      <th>target</th>\n",
       "    </tr>\n",
       "  </thead>\n",
       "  <tbody>\n",
       "    <tr>\n",
       "      <th>0</th>\n",
       "      <td>1</td>\n",
       "      <td>NaN</td>\n",
       "      <td>NaN</td>\n",
       "      <td>bed reason earthquak may alan forgiv u al</td>\n",
       "      <td>Our Deeds are the Reason of this #earthquake M...</td>\n",
       "      <td>1</td>\n",
       "    </tr>\n",
       "    <tr>\n",
       "      <th>1</th>\n",
       "      <td>4</td>\n",
       "      <td>NaN</td>\n",
       "      <td>NaN</td>\n",
       "      <td>forest fire near la rang sask canada</td>\n",
       "      <td>Forest fire near La Ronge Sask. Canada</td>\n",
       "      <td>1</td>\n",
       "    </tr>\n",
       "    <tr>\n",
       "      <th>2</th>\n",
       "      <td>5</td>\n",
       "      <td>NaN</td>\n",
       "      <td>NaN</td>\n",
       "      <td>al resid ask shelter place notifi offic evacu ...</td>\n",
       "      <td>All residents asked to 'shelter in place' are ...</td>\n",
       "      <td>1</td>\n",
       "    </tr>\n",
       "    <tr>\n",
       "      <th>3</th>\n",
       "      <td>6</td>\n",
       "      <td>NaN</td>\n",
       "      <td>NaN</td>\n",
       "      <td>peopl receiv wildfir evacu order california</td>\n",
       "      <td>13,000 people receive #wildfires evacuation or...</td>\n",
       "      <td>1</td>\n",
       "    </tr>\n",
       "    <tr>\n",
       "      <th>4</th>\n",
       "      <td>7</td>\n",
       "      <td>NaN</td>\n",
       "      <td>NaN</td>\n",
       "      <td>got sent photo rubi alaska smoke wildfir pour ...</td>\n",
       "      <td>Just got sent this photo from Ruby #Alaska as ...</td>\n",
       "      <td>1</td>\n",
       "    </tr>\n",
       "  </tbody>\n",
       "</table>\n",
       "</div>"
      ],
      "text/plain": [
       "   id keyword location                                       cleaned_text  \\\n",
       "0   1     NaN      NaN          bed reason earthquak may alan forgiv u al   \n",
       "1   4     NaN      NaN               forest fire near la rang sask canada   \n",
       "2   5     NaN      NaN  al resid ask shelter place notifi offic evacu ...   \n",
       "3   6     NaN      NaN        peopl receiv wildfir evacu order california   \n",
       "4   7     NaN      NaN  got sent photo rubi alaska smoke wildfir pour ...   \n",
       "\n",
       "                                                text  target  \n",
       "0  Our Deeds are the Reason of this #earthquake M...       1  \n",
       "1             Forest fire near La Ronge Sask. Canada       1  \n",
       "2  All residents asked to 'shelter in place' are ...       1  \n",
       "3  13,000 people receive #wildfires evacuation or...       1  \n",
       "4  Just got sent this photo from Ruby #Alaska as ...       1  "
      ]
     },
     "execution_count": 9,
     "metadata": {},
     "output_type": "execute_result"
    }
   ],
   "source": [
    "pipline = [\n",
    "    handle_unicode,\n",
    "    remove_newlines,\n",
    "    remove_urls,\n",
    "    expand_hashtags,\n",
    "    remove_mentions,\n",
    "    words_with_numbers,\n",
    "    remove_numbers,\n",
    "    expand_contractions,\n",
    "    remove_punctuation,\n",
    "    to_lower,\n",
    "    remove_repeated_characters,\n",
    "    correct_typos,\n",
    "    remove_stopwords,\n",
    "    stem,\n",
    "    lemmatize,\n",
    "]\n",
    "\n",
    "def apply_pipline(pipeline, text):\n",
    "    for func in pipline:\n",
    "        text = func(text)\n",
    "    return text\n",
    "\n",
    "\n",
    "train[\"cleaned_text\"] = train[\"cleaned_text\"].apply(lambda x: apply_pipline(pipline, x))\n",
    "test[\"cleaned_text\"] = test[\"cleaned_text\"].apply(lambda x: apply_pipline(pipline, x))\n",
    "\n",
    "train.head()"
   ]
  },
  {
   "cell_type": "markdown",
   "metadata": {},
   "source": [
    "## Using the FastText Library"
   ]
  },
  {
   "cell_type": "code",
   "execution_count": 16,
   "metadata": {},
   "outputs": [],
   "source": [
    "# write to fasttext format\n",
    "with open(\"./data/cleaned_text.train\", \"w\") as f:\n",
    "    f.writelines(\"__label__\" + train[\"target\"].astype(str) + \" \" + train[\"cleaned_text\"] + \"\\n\")"
   ]
  },
  {
   "cell_type": "code",
   "execution_count": 17,
   "metadata": {},
   "outputs": [],
   "source": [
    "import fasttext"
   ]
  },
  {
   "cell_type": "code",
   "execution_count": 24,
   "metadata": {},
   "outputs": [
    {
     "name": "stderr",
     "output_type": "stream",
     "text": [
      "Read 0M words\n",
      "Number of words:  7826\n",
      "Number of labels: 2\n",
      "Progress: 100.0% words/sec/thread: 1330425 lr:  0.000000 avg.loss:  0.099717 ETA:   0h 0m 0s 0.099717 ETA:   0h 0m 0s\n"
     ]
    }
   ],
   "source": [
    "model = fasttext.train_supervised(input=\"./data/cleaned_text.train\", epoch=50, lr=0.5, wordNgrams=2, verbose=2, minCount=1)\n",
    "model.save_model(\"./models/cleaned_text.bin\")"
   ]
  },
  {
   "cell_type": "code",
   "execution_count": 25,
   "metadata": {},
   "outputs": [],
   "source": [
    "test[\"predictions\"] = test[\"cleaned_text\"].apply(lambda x: model.predict(x)[0][0].replace('__label__', ''))\n",
    "\n",
    "with open(\"./submissions/fasttext.csv\", \"w\") as f:\n",
    "    f.write(\"id,target\\n\")\n",
    "    for i, pred in zip(test[\"id\"], test[\"predictions\"]):\n",
    "        f.write(f\"{i},{pred}\\n\")"
   ]
  }
 ],
 "metadata": {
  "kernelspec": {
   "display_name": "Python 3.8.10 64-bit",
   "language": "python",
   "name": "python3"
  },
  "language_info": {
   "codemirror_mode": {
    "name": "ipython",
    "version": 3
   },
   "file_extension": ".py",
   "mimetype": "text/x-python",
   "name": "python",
   "nbconvert_exporter": "python",
   "pygments_lexer": "ipython3",
   "version": "3.8.10"
  },
  "orig_nbformat": 4,
  "vscode": {
   "interpreter": {
    "hash": "916dbcbb3f70747c44a77c7bcd40155683ae19c65e1c03b4aa3499c5328201f1"
   }
  }
 },
 "nbformat": 4,
 "nbformat_minor": 2
}
